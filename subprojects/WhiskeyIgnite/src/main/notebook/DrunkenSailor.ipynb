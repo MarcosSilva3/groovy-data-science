{
 "cells": [
  {
   "cell_type": "code",
   "execution_count": 1,
   "id": "70ecff8d",
   "metadata": {},
   "outputs": [],
   "source": [
    "// generate a random walk\n",
    "steps = 10000\n",
    "random = new Random()\n",
    "def walk(ssize) {\n",
    "  def cur = 0.0\n",
    "  def x = []\n",
    "  def y = []\n",
    "  for (i in 0..steps) {\n",
    "    y[i] = cur\n",
    "    x[i] = i\n",
    "    cur += random.nextGaussian() * ssize\n",
    "  }\n",
    "  return [x:x, y:y]\n",
    "}\n",
    "// now x is time for the x-axis, and y is the random variable\n",
    "beer = walk(10)\n",
    "whiskey = walk(100)\n",
    "OutputCell.HIDDEN"
   ]
  },
  {
   "cell_type": "code",
   "execution_count": 2,
   "id": "39f2a84b",
   "metadata": {},
   "outputs": [
    {
     "data": {
      "application/vnd.jupyter.widget-view+json": {
       "model_id": "4a6244d8-417a-4728-9a57-302179ef5950",
       "version_major": 2,
       "version_minor": 0
      },
      "method": "display_data"
     },
     "metadata": {},
     "output_type": "display_data"
    }
   ],
   "source": [
    "p = new TimePlot(title: \"Drunken Sailor Walks\", showLegend: true, lodThreshold: 2000)\n",
    "p << new Line(x:beer.x, y:beer.y, displayName:\"Beer Walk\")\n",
    "p << new Line(x:whiskey.x, y:whiskey.y, displayName:\"Whiskey Walk\")"
   ]
  }
 ],
 "metadata": {
  "kernelspec": {
   "display_name": "Groovy",
   "language": "groovy",
   "name": "groovy"
  },
  "language_info": {
   "codemirror_mode": "groovy",
   "file_extension": ".groovy",
   "mimetype": "",
   "name": "Groovy",
   "nbconverter_exporter": "",
   "version": "2.5.6"
  },
  "toc": {
   "base_numbering": 1,
   "nav_menu": {},
   "number_sections": false,
   "sideBar": false,
   "skip_h1_title": false,
   "title_cell": "Table of Contents",
   "title_sidebar": "Contents",
   "toc_cell": false,
   "toc_position": {},
   "toc_section_display": false,
   "toc_window_display": false
  }
 },
 "nbformat": 4,
 "nbformat_minor": 5
}
