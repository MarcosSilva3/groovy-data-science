{
 "cells": [
  {
   "cell_type": "markdown",
   "id": "15f4eaed",
   "metadata": {},
   "source": [
    "# Whiskey clustering with Apache Ignite"
   ]
  },
  {
   "cell_type": "markdown",
   "id": "9359f0f1",
   "metadata": {},
   "source": [
    "This example examines 86 Scotch whiskies that have been rated on\n",
    "a five-point scale for 12 flavor characteristics: Body, sweetness, smoky, medicinal, tobacco, honey, spicy, winey, nutty, malty, fruity, and floral.\n",
    "This data set comes from a book on the classification of Scotch whisky based on\n",
    "flavors by David Wishart (2002) and can be found [online](https://www.niss.org/sites/default/files/ScotchWhisky01.txt)."
   ]
  },
  {
   "cell_type": "markdown",
   "id": "ef15a1df",
   "metadata": {},
   "source": [
    "We'll use [Apache Commons CSV](https://commons.apache.org/proper/commons-csv/) to read and manipulate our data\n",
    "and the clustering classes from the [Apache Ignite](https://ignite.apache.org/)\n",
    "[machine learning library](https://ignite.apache.org/features/machinelearning.html)."
   ]
  },
  {
   "cell_type": "markdown",
   "id": "d12a9cab",
   "metadata": {},
   "source": [
    "We'll add those libraries to the classpath and define some imports to simplify access to the classes we need."
   ]
  },
  {
   "cell_type": "code",
   "execution_count": null,
   "id": "e4d34204",
   "metadata": {},
   "outputs": [
    {
     "data": {
      "application/vnd.jupyter.widget-view+json": {
       "model_id": "",
       "version_major": 2,
       "version_minor": 0
      },
      "method": "display_data"
     },
     "metadata": {},
     "output_type": "display_data"
    },
    {
     "data": {
      "application/vnd.jupyter.widget-view+json": {
       "model_id": "0c6b3ce3-ba64-47a9-bc0f-a04cffeaf89e",
       "version_major": 2,
       "version_minor": 0
      },
      "method": "display_data"
     },
     "metadata": {},
     "output_type": "display_data"
    }
   ],
   "source": [
    "%%classpath add mvn\n",
    "org.apache.ignite ignite-core 2.15.0\n",
    "org.apache.ignite ignite-ml 2.15.0\n",
    "org.apache.commons commons-csv 1.10.0\n",
    "org.knowm.xchart xchart 3.8.3"
   ]
  },
  {
   "cell_type": "code",
   "execution_count": null,
   "id": "b3c9d361",
   "metadata": {},
   "outputs": [],
   "source": [
    "%import static org.apache.commons.csv.CSVFormat.RFC4180\n",
    "%import java.awt.Color\n",
    "%import org.knowm.xchart.*\n",
    "%import org.apache.ignite.Ignition\n",
    "%import org.apache.ignite.cache.affinity.rendezvous.RendezvousAffinityFunction\n",
    "%import org.apache.ignite.configuration.CacheConfiguration\n",
    "%import org.apache.ignite.configuration.IgniteConfiguration\n",
    "%import org.apache.ignite.ml.clustering.kmeans.KMeansTrainer\n",
    "%import org.apache.ignite.ml.dataset.feature.extractor.impl.DoubleArrayVectorizer\n",
    "%import org.apache.ignite.ml.math.distances.*\n",
    "%import org.apache.ignite.spi.discovery.tcp.TcpDiscoverySpi\n",
    "%import org.apache.ignite.spi.discovery.tcp.ipfinder.multicast.TcpDiscoveryMulticastIpFinder"
   ]
  },
  {
   "cell_type": "markdown",
   "id": "0902fe76",
   "metadata": {},
   "source": [
    "We start by loading the data."
   ]
  },
  {
   "cell_type": "code",
   "execution_count": null,
   "id": "68751a64",
   "metadata": {},
   "outputs": [
    {
     "data": {
      "text/plain": [
       "[Body, Sweetness, Smoky, Medicinal, Tobacco, Honey, Spicy, Winey, Nutty, Malty, Fruity, Floral]"
      ]
     },
     "execution_count": 3,
     "metadata": {},
     "output_type": "execute_result"
    }
   ],
   "source": [
    "file = '../resources/whiskey.csv' as File\n",
    "rows = file.withReader {r -> RFC4180.parse(r).records*.toList() }\n",
    "data = rows[1..-1].collect{ it[2..-1]*.toDouble() } as double[][]\n",
    "distilleries = rows[1..-1]*.get(1)\n",
    "features = rows[0][2..-1]"
   ]
  },
  {
   "cell_type": "markdown",
   "id": "f1f6ebb8",
   "metadata": {},
   "source": [
    "Next we configure our cluster (we'll use a single node for this simple demo)."
   ]
  },
  {
   "cell_type": "code",
   "execution_count": null,
   "id": "c95e9822",
   "metadata": {},
   "outputs": [],
   "source": [
    "cfg = new IgniteConfiguration(\n",
    "  peerClassLoadingEnabled: true,\n",
    "  discoverySpi: new TcpDiscoverySpi(\n",
    "    ipFinder: new TcpDiscoveryMulticastIpFinder(\n",
    "      addresses: ['127.0.0.1:47500..47509']\n",
    "    )\n",
    "  )\n",
    ")\n",
    "OutputCell.HIDDEN"
   ]
  },
  {
   "cell_type": "markdown",
   "id": "7471ad9f",
   "metadata": {},
   "source": [
    "Then we'll define some helper variables:"
   ]
  },
  {
   "cell_type": "code",
   "execution_count": null,
   "id": "91108bc6",
   "metadata": {},
   "outputs": [],
   "source": [
    "pretty = this.&sprintf.curry('%.4f')\n",
    "vectorizer = new DoubleArrayVectorizer()\n",
    "dist = new EuclideanDistance()\n",
    "OutputCell.HIDDEN"
   ]
  },
  {
   "cell_type": "markdown",
   "id": "5fa632c9",
   "metadata": {},
   "source": [
    "Next, we'll start our cluster, populate the Ignite cache, and then perform the clustering:"
   ]
  },
  {
   "cell_type": "code",
   "execution_count": null,
   "id": "c226a4b7",
   "metadata": {},
   "outputs": [
    {
     "name": "stderr",
     "output_type": "stream",
     "text": [
      "Jun 06, 2023 7:43:03 AM java.util.logging.LogManager$RootLogger log\n",
      "WARNING: Failed to resolve default logging config file: config/java.util.logging.properties\n"
     ]
    },
    {
     "name": "stdout",
     "output_type": "stream",
     "text": [
      "[07:43:04]    __________  ________________ \n",
      "[07:43:04]   /  _/ ___/ |/ /  _/_  __/ __/ \n",
      "[07:43:04]  _/ // (7 7    // /  / / / _/   \n",
      "[07:43:04] /___/\\___/_/|_/___/ /_/ /x___/  \n",
      "[07:43:04] \n",
      "[07:43:04] ver. 2.15.0#20230425-sha1:f98f7f35\n",
      "[07:43:04] 2023 Copyright(C) Apache Software Foundation\n",
      "[07:43:04] \n",
      "[07:43:04] Ignite documentation: https://ignite.apache.org\n",
      "[07:43:04] \n",
      "[07:43:04] Quiet mode.\n",
      "[07:43:04]   ^-- Logging by 'JavaLogger [quiet=true, config=null]'\n",
      "[07:43:04]   ^-- To see **FULL** console log here add -DIGNITE_QUIET=false or \"-v\" to ignite.{sh|bat}\n",
      "[07:43:04] \n",
      "[07:43:04] OS: Linux 5.15.0-69-generic amd64\n",
      "[07:43:04] VM information: OpenJDK Runtime Environment 1.8.0_121-b15 Azul Systems, Inc. OpenJDK 64-Bit Server VM 25.121-b15\n",
      "[07:43:04] Please set system property '-Djava.net.preferIPv4Stack=true' to avoid possible problems in mixed environments.\n",
      "[07:43:07] Configured plugins:\n",
      "[07:43:07]   ^-- ml-inference-plugin 1.0.0\n",
      "[07:43:07]   ^-- null\n",
      "[07:43:07] \n",
      "[07:43:07] Configured failure handler: [hnd=StopNodeOrHaltFailureHandler [tryStop=false, timeout=0, super=AbstractFailureHandler [ignoredFailureTypes=UnmodifiableSet [SYSTEM_WORKER_BLOCKED, SYSTEM_CRITICAL_OPERATION_TIMEOUT]]]]\n",
      "[07:43:09] Message queue limit is set to 0 which may lead to potential OOMEs when running cache operations in FULL_ASYNC or PRIMARY_SYNC modes due to message queues growth on sender and receiver sides.\n",
      "[07:43:14] Data Regions Started: 4\n",
      "[07:43:14] \n",
      "[07:43:14]     ^--   sysMemPlc region [type=internal, persistence=false, lazyAlloc=false,\n",
      "[07:43:14]       ...  initCfg=40MB, maxCfg=100MB, usedRam=0MB, freeRam=100%, allocRam=40MB]\n",
      "[07:43:14]     ^--   default region [type=default, persistence=false, lazyAlloc=true,\n",
      "[07:43:14]       ...  initCfg=256MB, maxCfg=154526MB, usedRam=0MB, freeRam=100%, allocRam=0MB]\n",
      "[07:43:14]     ^--   TxLog region [type=internal, persistence=false, lazyAlloc=false,\n",
      "[07:43:14]       ...  initCfg=40MB, maxCfg=100MB, usedRam=0MB, freeRam=100%, allocRam=40MB]\n",
      "[07:43:14]     ^--   volatileDsMemPlc region [type=user, persistence=false, lazyAlloc=true,\n",
      "[07:43:14]       ...  initCfg=40MB, maxCfg=100MB, usedRam=0MB, freeRam=100%, allocRam=0MB]\n",
      "[07:43:15] Security status [authentication=off, sandbox=off, tls/ssl=off]\n",
      "[07:43:15] Performance suggestions for grid  (fix if possible)\n",
      "[07:43:15] To disable, set -DIGNITE_PERFORMANCE_SUGGESTIONS_DISABLED=true\n",
      "[07:43:15]   ^-- Switch to the most recent 11 JVM version\n",
      "[07:43:15]   ^-- Enable G1 Garbage Collector (add '-XX:+UseG1GC' to JVM options)\n",
      "[07:43:15]   ^-- Specify JVM heap max size (add '-Xmx<size>[g|G|m|M|k|K]' to JVM options)\n",
      "[07:43:15]   ^-- Set max direct memory size if getting 'OOME: Direct buffer memory' (add '-XX:MaxDirectMemorySize=<size>[g|G|m|M|k|K]' to JVM options)\n",
      "[07:43:15]   ^-- Speed up flushing of dirty pages by OS (alter vm.dirty_expire_centisecs parameter by setting to 500)\n",
      "[07:43:15]   ^-- Reduce pages swapping ratio (set vm.swappiness=10 or less)\n",
      "[07:43:15] Refer to this page for more performance suggestions: https://ignite.apache.org/docs/latest/perf-and-troubleshooting/memory-tuning\n",
      "[07:43:15] \n",
      "[07:43:15] \n",
      "[07:43:15] Ignite node started OK (id=7fa268ac)\n",
      "[07:43:15] Topology snapshot [ver=1, locNode=7fa268ac, servers=1, clients=0, state=ACTIVE, CPUs=72, offheap=150.0GB, heap=27.0GB]\n",
      "[07:43:15]   ^-- Baseline [id=0, size=1, online=1, offline=0]\n",
      ">>> Ignite grid started for data: 86 rows X 12 cols\n",
      ">>> KMeans centroids:\n",
      "Body, Sweetness, Smoky, Medicinal, Tobacco, Honey, Spicy, Winey, Nutty, Malty, Fruity, Floral\n",
      "1.5333, 2.4667, 1.1556, 0.2444, 0.0667, 0.9778, 1.1556, 0.5778, 1.1556, 1.7333, 1.8222, 1.8889\n",
      "2.6071, 2.3214, 1.5000, 0.1429, 0.0714, 1.9286, 1.7143, 1.7857, 1.9643, 2.0714, 2.0714, 1.8571\n",
      "2.7692, 1.6154, 2.9231, 2.4615, 0.3846, 0.6923, 1.4615, 0.6154, 1.4615, 1.4615, 1.1538, 0.6923\n",
      "[07:43:41] Ignite node stopped OK [uptime=00:00:26.381]\n"
     ]
    }
   ],
   "source": [
    "Ignition.start(cfg).withCloseable { ignite ->\n",
    "    println \">>> Ignite grid started for data: ${data.size()} rows X ${data[0].size()} cols\"\n",
    "    def dataCache = ignite.createCache(new CacheConfiguration<Integer, double[]>(\n",
    "          name: \"TEST_${UUID.randomUUID()}\",\n",
    "          affinity: new RendezvousAffinityFunction(false, 10)))\n",
    "    data.indices.each { int i -> dataCache.put(i, data[i]) }\n",
    "    def trainer = new KMeansTrainer().withDistance(dist).withAmountOfClusters(3)\n",
    "    def mdl = trainer.fit(ignite, dataCache, vectorizer)\n",
    "    println \">>> KMeans centroids:\\n${features.join(', ')}\"\n",
    "    def centroids = mdl.centers*.all()\n",
    "    cols = centroids.collect{ it*.get() }\n",
    "    cols.each { c -> println c.collect(pretty).join(', ') }\n",
    "    dataCache.destroy()\n",
    "}\n",
    "OutputCell.HIDDEN"
   ]
  },
  {
   "cell_type": "markdown",
   "id": "2111279c",
   "metadata": {},
   "source": [
    "Finally, let's graph the results as a radar plot."
   ]
  },
  {
   "cell_type": "code",
   "execution_count": null,
   "id": "6247e8c2",
   "metadata": {},
   "outputs": [
    {
     "data": {
      "image/png": "[encoded data removed]"
     },
     "execution_count": 7,
     "metadata": {},
     "output_type": "execute_result"
    }
   ],
   "source": [
    "def chart = new RadarChartBuilder().width(600).height(500).title('Whiskey Clusters').build()\n",
    "chart.radiiLabels = features as String[]\n",
    "chart.styler.with {\n",
    "    legendVisible = true\n",
    "    seriesColors = [new Color(255, 51, 51, 50),\n",
    "                    new Color(51, 153, 255, 50),\n",
    "                    new Color(0, 153, 0, 60)] as Color[]\n",
    "}\n",
    "cols.eachWithIndex { ctrd, num ->\n",
    "    chart.addSeries(\"Cluster ${num+1}\", ctrd.collect{ it/4 } as double[])\n",
    "}\n",
    "BitmapEncoder.getBufferedImage(chart)"
   ]
  },
  {
   "cell_type": "code",
   "execution_count": null,
   "id": "519126e3",
   "metadata": {},
   "outputs": [],
   "source": []
  }
 ],
 "metadata": {
  "kernelspec": {
   "display_name": "Groovy",
   "language": "groovy",
   "name": "groovy"
  },
  "language_info": {
   "codemirror_mode": "groovy",
   "file_extension": ".groovy",
   "mimetype": "",
   "name": "Groovy",
   "nbconverter_exporter": "",
   "version": "2.5.6"
  },
  "toc": {
   "base_numbering": 1,
   "nav_menu": {},
   "number_sections": false,
   "sideBar": false,
   "skip_h1_title": false,
   "title_cell": "Table of Contents",
   "title_sidebar": "Contents",
   "toc_cell": false,
   "toc_position": {},
   "toc_section_display": false,
   "toc_window_display": false
  }
 },
 "nbformat": 4,
 "nbformat_minor": 5
}
