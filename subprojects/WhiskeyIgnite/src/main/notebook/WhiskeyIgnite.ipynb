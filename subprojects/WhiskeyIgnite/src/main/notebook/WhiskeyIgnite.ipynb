{
 "cells": [
  {
   "cell_type": "markdown",
   "id": "15f4eaed",
   "metadata": {},
   "source": [
    "# Whiskey clustering with Apache Ignite"
   ]
  },
  {
   "cell_type": "markdown",
   "id": "9359f0f1",
   "metadata": {},
   "source": [
    "This example examines 86 Scotch whiskies that have been rated on\n",
    "a five-point scale for 12 flavor characteristics: Body, sweetness, smoky, medicinal, tobacco, honey, spicy, winey, nutty, malty, fruity, and floral.\n",
    "This data set comes from a book on the classification of Scotch whisky based on\n",
    "flavors by David Wishart (2002) and can be found [online](https://www.niss.org/sites/default/files/ScotchWhisky01.txt)."
   ]
  },
  {
   "cell_type": "markdown",
   "id": "ef15a1df",
   "metadata": {},
   "source": [
    "We'll use [Apache Commons CSV](https://commons.apache.org/proper/commons-csv/) to read and manipulate our data\n",
    "and the clustering classes from the [Apache Ignite](https://ignite.apache.org/)\n",
    "[machine learning library](https://ignite.apache.org/features/machinelearning.html)."
   ]
  },
  {
   "cell_type": "markdown",
   "id": "d12a9cab",
   "metadata": {},
   "source": [
    "We'll add those libraries to the classpath and define some imports to simplify access to the classes we need."
   ]
  },
  {
   "cell_type": "code",
   "execution_count": null,
   "id": "e4d34204",
   "metadata": {},
   "outputs": [
    {
     "data": {
      "application/vnd.jupyter.widget-view+json": {
       "model_id": "be676cb0-a0d6-4e36-b672-d923c14ec6d7",
       "version_major": 2,
       "version_minor": 0
      },
      "method": "display_data"
     },
     "metadata": {},
     "output_type": "display_data"
    }
   ],
   "source": [
    "%%classpath add mvn\n",
    "org.apache.ignite ignite-core 2.15.0\n",
    "org.apache.ignite ignite-ml 2.15.0\n",
    "org.apache.commons commons-csv 1.10.0\n",
    "org.knowm.xchart xchart 3.8.3"
   ]
  },
  {
   "cell_type": "code",
   "execution_count": null,
   "id": "b3c9d361",
   "metadata": {},
   "outputs": [],
   "source": [
    "%import static org.apache.commons.csv.CSVFormat.RFC4180\n",
    "%import org.knowm.xchart.*\n",
    "%import org.apache.ignite.Ignition\n",
    "%import org.apache.ignite.cache.affinity.rendezvous.RendezvousAffinityFunction\n",
    "%import org.apache.ignite.configuration.CacheConfiguration\n",
    "%import org.apache.ignite.configuration.IgniteConfiguration\n",
    "%import org.apache.ignite.ml.clustering.kmeans.KMeansTrainer\n",
    "%import org.apache.ignite.ml.dataset.feature.extractor.impl.DoubleArrayVectorizer\n",
    "%import static org.apache.ignite.ml.dataset.feature.extractor.Vectorizer$LabelCoordinate.FIRST\n",
    "%import org.apache.ignite.ml.math.distances.*\n",
    "%import org.apache.ignite.spi.discovery.tcp.TcpDiscoverySpi\n",
    "%import org.apache.ignite.spi.discovery.tcp.ipfinder.multicast.TcpDiscoveryMulticastIpFinder"
   ]
  },
  {
   "cell_type": "markdown",
   "id": "0902fe76",
   "metadata": {},
   "source": [
    "We start by loading the data."
   ]
  },
  {
   "cell_type": "code",
   "execution_count": null,
   "id": "68751a64",
   "metadata": {},
   "outputs": [],
   "source": [
    "file = '../resources/whiskey.csv' as File\n",
    "rows = file.withReader {r -> RFC4180.parse(r).records*.toList() }\n",
    "data = rows[1..-1].collect{ it[2..-1]*.toDouble() } as double[][]\n",
    "distilleries = rows[1..-1]*.get(1)\n",
    "features = rows[0][2..-1]"
   ]
  },
  {
   "cell_type": "code",
   "execution_count": null,
   "id": "c95e9822",
   "metadata": {},
   "outputs": [],
   "source": []
  }
 ],
 "metadata": {
  "kernelspec": {
   "display_name": "Groovy",
   "language": "groovy",
   "name": "groovy"
  },
  "language_info": {
   "codemirror_mode": "groovy",
   "file_extension": ".groovy",
   "mimetype": "",
   "name": "Groovy",
   "nbconverter_exporter": "",
   "version": "2.5.6"
  },
  "toc": {
   "base_numbering": 1,
   "nav_menu": {},
   "number_sections": false,
   "sideBar": false,
   "skip_h1_title": false,
   "title_cell": "Table of Contents",
   "title_sidebar": "Contents",
   "toc_cell": false,
   "toc_position": {},
   "toc_section_display": false,
   "toc_window_display": false
  }
 },
 "nbformat": 4,
 "nbformat_minor": 5
}
