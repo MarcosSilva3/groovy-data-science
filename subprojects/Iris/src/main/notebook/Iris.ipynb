{
  "cells": [
    {
      "metadata": {
      },
      "cell_type": "markdown",
      "source": "# Iris flower classification using KNN Regression\n\nThis example uses the [classic Iris flower species](https://archive.ics.uci.edu/ml/machine-learning-databases/iris/) dataset.\nIt captures petal length and width, sepal length and width and known class for 150 samples of three species.\n\nWe'll use [Tablesaw](https://tablesaw.tech/) to store and manipulate our data\nand the KNN regression class from the [Smile](http://haifengl.github.io/) machine learning library.\nSo, we'll add those libraries to the classpath."
    },
    {
      "metadata": {
        "trusted": true
      },
      "cell_type": "code",
      "source": "%%classpath add mvn\ntech.tablesaw tablesaw-beakerx 0.38.2\ntech.tablesaw tablesaw-aggregate 0.38.2\ncom.github.haifengl smile-core 2.5.3",
      "execution_count": 1,
      "outputs": [
        {
          "output_type": "display_data",
          "data": {
            "method": "display_data",
            "application/vnd.jupyter.widget-view+json": {
              "version_minor": 0,
              "model_id": "",
              "version_major": 2
            }
          },
          "metadata": {
          }
        },
        {
          "output_type": "display_data",
          "data": {
            "method": "display_data",
            "application/vnd.jupyter.widget-view+json": {
              "version_minor": 0,
              "model_id": "2c94bfa1-0ea9-485a-83c2-e772c45aef39",
              "version_major": 2
            }
          },
          "metadata": {
          }
        }
      ]
    },
    {
      "metadata": {
      },
      "cell_type": "markdown",
      "source": "And add some associated imports."
    },
    {
      "metadata": {
        "trusted": true
      },
      "cell_type": "code",
      "source": "%import smile.classification.KNN\n%import smile.validation.ConfusionMatrix\n%import smile.validation.CrossValidation\n%import tech.tablesaw.api.StringColumn\n%import tech.tablesaw.api.Table\n%import static tech.tablesaw.aggregate.AggregateFunctions.*",
      "execution_count": 2,
      "outputs": [
      ]
    },
    {
      "metadata": {
      },
      "cell_type": "markdown",
      "source": "We'll also enable a BeakerX display widget for Tablesaw tables."
    },
    {
      "metadata": {
        "trusted": true
      },
      "cell_type": "code",
      "source": "tech.tablesaw.beakerx.TablesawDisplayer.register()\nOutputCell.HIDDEN",
      "execution_count": 3,
      "outputs": [
      ]
    },
    {
      "metadata": {
      },
      "cell_type": "markdown",
      "source": "We start by loading data and printing its shape and structure."
    },
    {
      "metadata": {
        "trusted": true
      },
      "cell_type": "code",
      "source": "rows = Table.read().csv(\"../resources/iris_data.csv\")",
      "execution_count": 4,
      "outputs": [
        {
          "output_type": "display_data",
          "data": {
            "method": "display_data",
            "application/vnd.jupyter.widget-view+json": {
              "version_minor": 0,
              "model_id": "22f319f5-acb2-4e62-960a-6ef15effea9f",
              "version_major": 2
            }
          },
          "metadata": {
          }
        }
      ]
    },
    {
      "metadata": {
        "trusted": true
      },
      "cell_type": "code",
      "source": "rows.shape()",
      "execution_count": 5,
      "outputs": [
        {
          "output_type": "execute_result",
          "execution_count": 5,
          "data": {
            "text/plain": "150 rows X 5 cols"
          },
          "metadata": {
          }
        }
      ]
    },
    {
      "metadata": {
        "trusted": true
      },
      "cell_type": "code",
      "source": "rows.structure()",
      "execution_count": 6,
      "outputs": [
        {
          "output_type": "display_data",
          "data": {
            "method": "display_data",
            "application/vnd.jupyter.widget-view+json": {
              "version_minor": 0,
              "model_id": "7f05ee02-8dca-46df-ad94-8bb81fc03c78",
              "version_major": 2
            }
          },
          "metadata": {
          }
        }
      ]
    },
    {
      "metadata": {
        "trusted": true
      },
      "cell_type": "code",
      "source": "rows.xTabCounts('Class')",
      "execution_count": 7,
      "outputs": [
        {
          "output_type": "display_data",
          "data": {
            "method": "display_data",
            "application/vnd.jupyter.widget-view+json": {
              "version_minor": 0,
              "model_id": "76e540a9-888d-493e-9917-6e0b54f33677",
              "version_major": 2
            }
          },
          "metadata": {
          }
        }
      ]
    },
    {
      "metadata": {
      },
      "cell_type": "markdown",
      "source": "Let's also check stats for the columns."
    },
    {
      "metadata": {
        "trusted": true
      },
      "cell_type": "code",
      "source": "def cols = ['Sepal length', 'Sepal width', 'Petal length', 'Petal width']\n(0..<cols.size()).each {\n    println rows.summarize(cols[it], mean, min, max).by('Class')\n}\nOutputCell.HIDDEN",
      "execution_count": 8,
      "outputs": [
        {
          "output_type": "stream",
          "text": "                                  iris_data.csv summary                                  \n      Class       |  Mean [Sepal length]  |  Min [Sepal length]  |  Max [Sepal length]  |\n-----------------------------------------------------------------------------------------\n     Iris-setosa  |                5.006  |                 4.3  |                 5.8  |\n Iris-versicolor  |                5.936  |                 4.9  |                   7  |\n  Iris-virginica  |                6.588  |                 4.9  |                 7.9  |\n                                iris_data.csv summary                                 \n      Class       |  Mean [Sepal width]  |  Min [Sepal width]  |  Max [Sepal width]  |\n--------------------------------------------------------------------------------------\n     Iris-setosa  |               3.418  |                2.3  |                4.4  |\n Iris-versicolor  |                2.77  |                  2  |                3.4  |\n  Iris-virginica  |               2.974  |                2.2  |                3.8  |\n                                  iris_data.csv summary                                  \n      Class       |  Mean [Petal length]  |  Min [Petal length]  |  Max [Petal length]  |\n-----------------------------------------------------------------------------------------\n     Iris-setosa  |                1.464  |                   1  |                 1.9  |\n Iris-versicolor  |                 4.26  |                   3  |                 5.1  |\n  Iris-virginica  |                5.552  |                 4.5  |                 6.9  |\n                                iris_data.csv summary                                 \n      Class       |  Mean [Petal width]  |  Min [Petal width]  |  Max [Petal width]  |\n--------------------------------------------------------------------------------------\n     Iris-setosa  |               0.244  |                0.1  |                0.6  |\n Iris-versicolor  |               1.326  |                  1  |                1.8  |\n  Iris-virginica  |               2.026  |                1.4  |                2.5  |\n",
          "name": "stdout"
        }
      ]
    },
    {
      "metadata": {
      },
      "cell_type": "markdown",
      "source": "Munge the data to get it into the right form and pass it to our classifier."
    },
    {
      "metadata": {
        "trusted": true
      },
      "cell_type": "code",
      "source": "species = ['Iris-setosa', 'Iris-versicolor', 'Iris-virginica']\ndef iris = rows.smile().toDataFrame()\ndef features = iris.drop(\"Class\").toArray()\nclasses = iris.column(\"Class\").toStringArray()\nclassIndexs = classes.collect{ species.indexOf(it) } as int[]\npredictions = CrossValidation.classification(10, features, classIndexs) { x, y -> KNN.fit(x, y, 3) }\nOutputCell.HIDDEN",
      "execution_count": 9,
      "outputs": [
      ]
    },
    {
      "metadata": {
        "trusted": true
      },
      "cell_type": "code",
      "source": "def results = []\npredictions.eachWithIndex{ predictedClass, idx ->\n    def (actual, predicted) = [classes[idx], species[predictedClass]]\n    results << (actual == predicted ? predicted : \"$predicted/$actual\".toString())\n}\nrows = rows.addColumns(StringColumn.create('Result', results))\nConfusionMatrix.of(classIndexs, predictions)",
      "execution_count": 10,
      "outputs": [
        {
          "output_type": "execute_result",
          "execution_count": 10,
          "data": {
            "text/plain": "ROW=truth and COL=predicted\nclass  0 |      50 |       0 |       0 |\nclass  1 |       0 |      47 |       3 |\nclass  2 |       0 |       2 |      48 |"
          },
          "metadata": {
          }
        }
      ]
    },
    {
      "metadata": {
        "trusted": true
      },
      "cell_type": "code",
      "source": "def predictedClasses = rows.column('Result').toList().toUnique()\nplot = new Plot(title: 'Iris predicted[/actual] species', xBound: [0, 7.5], yBound: [0, 3],\n                xLabel: 'Petal length', yLabel: 'Petal width')\npredictedClasses.each { prediction ->\n    def xs = rows.column('Petal length').where(rows.column('Result').isEqualTo(prediction)).toList()\n    def ys = rows.column('Petal width').where(rows.column('Result').isEqualTo(prediction)).toList()\n    plot << new Points(x: xs, y: ys, displayName: prediction)\n}\nplot",
      "execution_count": 11,
      "outputs": [
        {
          "output_type": "display_data",
          "data": {
            "method": "display_data",
            "application/vnd.jupyter.widget-view+json": {
              "version_minor": 0,
              "model_id": "8f228d33-555c-40da-8542-2e74ec17bde1",
              "version_major": 2
            }
          },
          "metadata": {
          }
        }
      ]
    }
  ],
  "metadata": {
    "kernelspec": {
      "name": "groovy",
      "display_name": "Groovy",
      "language": "groovy"
    },
    "language_info": {
      "nbconverter_exporter": "",
      "codemirror_mode": "groovy",
      "name": "Groovy",
      "mimetype": "",
      "file_extension": ".groovy",
      "version": "2.5.6"
    },
    "toc": {
      "nav_menu": {
      },
      "number_sections": false,
      "sideBar": false,
      "skip_h1_title": false,
      "base_numbering": 1,
      "title_cell": "Table of Contents",
      "title_sidebar": "Contents",
      "toc_cell": false,
      "toc_position": {
      },
      "toc_section_display": false,
      "toc_window_display": false
    }
  },
  "nbformat": 4,
  "nbformat_minor": 2
}