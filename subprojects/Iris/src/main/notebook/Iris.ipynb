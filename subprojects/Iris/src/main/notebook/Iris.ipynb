{
  "cells":[
    {
      "metadata":{

      },
      "cell_type":"markdown",
      "source":"# Iris flower classification using KNN Regression\n\nThis example uses the [classic Iris flower species](https://archive.ics.uci.edu/ml/machine-learning-databases/iris/) dataset.\nIt captures petal length and width, sepal length and width and known class for 150 samples of three species.\n\nWe'll use [Tablesaw](https://tablesaw.tech/) to store and manipulate our data\nand the KNN regression class from the [Smile](http://haifengl.github.io/) machine learning library.\nSo, we'll add those libraries to the classpath."
    },
    {
      "metadata":{
        "trusted":true
      },
      "cell_type":"code",
      "source":"%%classpath add mvn\ntech.tablesaw tablesaw-beakerx 0.38.2\ntech.tablesaw tablesaw-aggregate 0.38.2\ncom.github.haifengl smile-core 2.5.3",
      "execution_count":7,
      "outputs":[
        {
          "output_type":"display_data",
          "data":{
            "method":"display_data",
            "application/vnd.jupyter.widget-view+json":{
              "version_minor":0,
              "model_id":"",
              "version_major":2
            }
          },
          "metadata":{

          }
        },
        {
          "output_type":"display_data",
          "data":{
            "method":"display_data",
            "application/vnd.jupyter.widget-view+json":{
              "version_minor":0,
              "model_id":"9cde9c61-099f-4003-8da0-bf68d1e3160b",
              "version_major":2
            }
          },
          "metadata":{

          }
        }
      ]
    },
    {
      "metadata":{

      },
      "cell_type":"markdown",
      "source":"And add some associated imports."
    },
    {
      "metadata":{
        "trusted":true
      },
      "cell_type":"code",
      "source":"%import smile.classification.KNN\n%import smile.validation.ConfusionMatrix\n%import smile.validation.CrossValidation\n%import tech.tablesaw.api.StringColumn\n%import tech.tablesaw.api.Table\n%import static tech.tablesaw.aggregate.AggregateFunctions.*",
      "execution_count":15,
      "outputs":[

      ]
    },
    {
      "metadata":{

      },
      "cell_type":"markdown",
      "source":"We'll also enable a BeakerX display widget for Tablesaw tables."
    },
    {
      "metadata":{
        "trusted":true
      },
      "cell_type":"code",
      "source":"tech.tablesaw.beakerx.TablesawDisplayer.register()\nOutputCell.HIDDEN",
      "execution_count":9,
      "outputs":[

      ]
    },
    {
      "metadata":{

      },
      "cell_type":"markdown",
      "source":"We start by loading data and printing its shape and structure."
    },
    {
      "metadata":{
        "trusted":true
      },
      "cell_type":"code",
      "source":"rows = Table.read().csv(\"../resources/iris_data.csv\")\nrows.shape()",
      "execution_count":18,
      "outputs":[
        {
          "output_type":"execute_result",
          "execution_count":18,
          "data":{
            "text/plain":"150 rows X 5 cols"
          },
          "metadata":{

          }
        }
      ]
    },
    {
      "metadata":{
        "trusted":true
      },
      "cell_type":"code",
      "source":"rows.structure()",
      "execution_count":11,
      "outputs":[
        {
          "output_type":"display_data",
          "data":{
            "method":"display_data",
            "application/vnd.jupyter.widget-view+json":{
              "version_minor":0,
              "model_id":"e7bbc1bc-6952-4a99-a26c-bacacb1532d4",
              "version_major":2
            }
          },
          "metadata":{

          }
        }
      ]
    },
    {
      "metadata":{
        "trusted":true
      },
      "cell_type":"code",
      "source":"rows.xTabCounts('Class')",
      "execution_count":12,
      "outputs":[
        {
          "output_type":"display_data",
          "data":{
            "method":"display_data",
            "application/vnd.jupyter.widget-view+json":{
              "version_minor":0,
              "model_id":"2a5ede5a-cb92-4250-aef6-eb830e90519b",
              "version_major":2
            }
          },
          "metadata":{

          }
        }
      ]
    },
    {
      "metadata":{

      },
      "cell_type":"markdown",
      "source":"Let's also check stats for the columns."
    },
    {
      "metadata":{
        "trusted":true
      },
      "cell_type":"code",
      "source":"def cols = ['Sepal length', 'Sepal width', 'Petal length', 'Petal width']\n(0..<cols.size()).each {\n    println rows.summarize(cols[it], mean, min, max).by('Class')\n}\nOutputCell.HIDDEN",
      "execution_count":16,
      "outputs":[
        {
          "output_type":"stream",
          "text":"                                  iris_data.csv summary                                  \n      Class       |  Mean [Sepal length]  |  Min [Sepal length]  |  Max [Sepal length]  |\n-----------------------------------------------------------------------------------------\n     Iris-setosa  |                5.006  |                 4.3  |                 5.8  |\n Iris-versicolor  |                5.936  |                 4.9  |                   7  |\n  Iris-virginica  |                6.588  |                 4.9  |                 7.9  |\n                                iris_data.csv summary                                 \n      Class       |  Mean [Sepal width]  |  Min [Sepal width]  |  Max [Sepal width]  |\n--------------------------------------------------------------------------------------\n     Iris-setosa  |               3.418  |                2.3  |                4.4  |\n Iris-versicolor  |                2.77  |                  2  |                3.4  |\n  Iris-virginica  |               2.974  |                2.2  |                3.8  |\n                                  iris_data.csv summary                                  \n      Class       |  Mean [Petal length]  |  Min [Petal length]  |  Max [Petal length]  |\n-----------------------------------------------------------------------------------------\n     Iris-setosa  |                1.464  |                   1  |                 1.9  |\n Iris-versicolor  |                 4.26  |                   3  |                 5.1  |\n  Iris-virginica  |                5.552  |                 4.5  |                 6.9  |\n                                iris_data.csv summary                                 \n      Class       |  Mean [Petal width]  |  Min [Petal width]  |  Max [Petal width]  |\n--------------------------------------------------------------------------------------\n     Iris-setosa  |               0.244  |                0.1  |                0.6  |\n Iris-versicolor  |               1.326  |                  1  |                1.8  |\n  Iris-virginica  |               2.026  |                1.4  |                2.5  |\n",
          "name":"stdout"
        }
      ]
    },
    {
      "metadata":{

      },
      "cell_type":"markdown",
      "source":"Get the data ready to pass to Smile."
    },
    {
      "metadata":{
        "trusted":true
      },
      "cell_type":"code",
      "source":"species = ['Iris-setosa', 'Iris-versicolor', 'Iris-virginica']\ndef iris = rows.smile().toDataFrame()\ndef features = iris.drop(\"Class\").toArray()\nclasses = iris.column(\"Class\").toStringArray()\nclassIndexs = classes.collect{ species.indexOf(it) } as int[]\npredictions = CrossValidation.classification(10, features, classIndexs) { x, y -> KNN.fit(x, y, 3) }\nOutputCell.HIDDEN",
      "execution_count":28,
      "outputs":[

      ]
    },
    {
      "metadata":{
        "trusted":true
      },
      "cell_type":"code",
      "source":[
        "def results = []\n",
        "predictions.eachWithIndex{ predictedClass, idx ->\n",
        "    def (actual, predicted) = [classes[idx], species[predictedClass]]\n",
        "    results << actual == predicted ? predicted : \"$predicted/$actual\".toString()\n",
        "}\n",
        "rows = rows.addColumns(StringColumn.create('Result', results))\n",
        "ConfusionMatrix.of(classIndexs, predictions)"
      ],
      "execution_count":null,
      "outputs":[

      ]
    },
    {
      "metadata":{
        "trusted":false
      },
      "cell_type":"code",
      "source": [
        "def start2020 = LocalDateTime.of(2020, JANUARY, 1, 0, 0)\n",
        "Function from2020 = { r -> r.dateTimeColumn('Date').isAfter(start2020) }\n\ndef candidates = ['[Nn]o scent', '[Nn]o smell', '[Dd]oes not smell like', \"[Dd]oesn't smell like\", \"[Cc]an't smell\",\n                  '[Cc]annot smell', '[Ff]aint smell', '[Ff]aint scent', \"[Dd]on't smell\", '[Ll]ike nothing']\nint[] months = scented.column('Date').collect { it.month.value - 1 }\ndef reviewFlags = scented.column('Review').collect { review -> candidates.any { review =~ it } }\nscented.addColumns(IntColumn.create('Month', months), BooleanColumn.create('Noscent', reviewFlags))\n\ndef byMonth2020 = scented.where(from2020).sortAscendingOn('Date')\n        .summarize('Noscent', countTrue, count).by('Month')\ndef indices = 0..<byMonth2020.size()\ndouble[] nsprop = indices.collect { byMonth2020[it].with { it.getDouble('Number True [Noscent]') / it.getDouble('Count [Noscent]') } }\ndouble[] se = indices.collect { sqrt(nsprop[it] * (1 - nsprop[it]) / byMonth2020[it].getDouble('Count [Noscent]')) }\ndouble[] barLower = indices.collect { nsprop[it] - se[it] }\ndouble[] barHigher = indices.collect { nsprop[it] + se[it] }\nbyMonth2020.addColumns(DoubleColumn.create('nsprop', nsprop), DoubleColumn.create('barLower', barLower), DoubleColumn.create('barHigher', barHigher))\ndef title = 'Proportion of top 5 scented candles on Amazon mentioning lack of scent by month 2020'\ndef labels = 'JFMAMJJASON'.toList()\nplot = new Plot(title: title, xLabel: 'Month', yLabel: 'Proportion of reviews', xTickLabelsVisible: false)\nlabels.indices.each{ plot << new Text(x: it, y:0.005, text: labels[it], showPointer: false, color: Color.WHITE) }\nplot << new Bars(x: byMonth2020.nCol('Month').toList(), y: byMonth2020.nCol('nsprop').toList(), width: 0.8)\nplot << new Stems(y: byMonth2020.nCol('barLower').toList(), base: byMonth2020.nCol('nsprop').toList())\nplot << new Stems(y: byMonth2020.nCol('barHigher').toList(), base: byMonth2020.nCol('nsprop').toList())",
      ],
      "execution_count":7,
      "outputs":[
        {
          "data":{
            "application/vnd.jupyter.widget-view+json":{
              "model_id":"4ab5fa94-1da4-4a80-a7a7-97eb98ca4c0e",
              "version_major":2,
              "version_minor":0
            },
            "method":"display_data"
          },
          "metadata":{

          },
          "output_type":"display_data"
        }
      ]
    }
  ],
  "metadata":{
    "kernelspec":{
      "name":"groovy",
      "display_name":"Groovy",
      "language":"groovy"
    },
    "language_info":{
      "nbconverter_exporter":"",
      "codemirror_mode":"groovy",
      "name":"Groovy",
      "mimetype":"",
      "file_extension":".groovy",
      "version":"2.5.6"
    },
    "toc":{
      "nav_menu":{

      },
      "number_sections":false,
      "sideBar":false,
      "skip_h1_title":false,
      "base_numbering":1,
      "title_cell":"Table of Contents",
      "title_sidebar":"Contents",
      "toc_cell":false,
      "toc_position":{

      },
      "toc_section_display":false,
      "toc_window_display":false
    }
  },
  "nbformat":4,
  "nbformat_minor":2
}