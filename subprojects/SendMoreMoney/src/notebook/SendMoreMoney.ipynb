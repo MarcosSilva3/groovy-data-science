{
 "cells": [
  {
   "cell_type": "code",
   "execution_count": 3,
   "metadata": {},
   "outputs": [
    {
     "name": "stdout",
     "output_type": "stream",
     "text": [
      "[(9567, 1085, 10652)]\n"
     ]
    }
   ],
   "source": [
    "def solutions():\n",
    "    # letters = ('s', 'e', 'n', 'd', 'm', 'o', 'r', 'y')\n",
    "    all_solutions = list()\n",
    "    for s in range(1, 10):\n",
    "        for e in range(0, 10):\n",
    "            for n in range(0, 10):\n",
    "                for d in range(0, 10):\n",
    "                    for m in range(1, 10):\n",
    "                        for o in range(0, 10):\n",
    "                            for r in range(0, 10):\n",
    "                                for y in range(0, 10):\n",
    "                                    if len({s, e, n, d, m, o, r, y}) == 8:\n",
    "                                        send = 1000 * s + 100 * e + 10 * n + d\n",
    "                                        more = 1000 * m + 100 * o + 10 * r + e\n",
    "                                        money = 10000 * m + 1000 * o + 100 * n + 10 * e + y\n",
    "                                        if send + more == money:\n",
    "                                            all_solutions.append((send, more, money))\n",
    "\n",
    "\n",
    "    return all_solutions\n",
    "\n",
    "print(solutions())"
   ]
  },
  {
   "cell_type": "code",
   "execution_count": 2,
   "metadata": {},
   "outputs": [
    {
     "name": "stdout",
     "output_type": "stream",
     "text": [
      "s = 9, e = 5, n = 6, d = 7\n",
      "m = 1, o = 0, r = 8, y = 2\n"
     ]
    }
   ],
   "source": [
    "%%groovy\n",
    "\n",
    "for (s in 1..9)\n",
    "    for (e in 0..9)\n",
    "        for (n in 0..9)\n",
    "            for (d in 0..9)\n",
    "                for (m in 1..9)\n",
    "                    for (o in 0..9)\n",
    "                        for (r in 0..9)\n",
    "                            for (y in 0..9)\n",
    "                                if ([s, e, n, d, m, o, r, y].toSet().size() == 8) {\n",
    "                                    def send = 1000 * s + 100 * e + 10 * n + d\n",
    "                                    def more = 1000 * m + 100 * o + 10 * r + e\n",
    "                                    def money = 10000 * m + 1000 * o + 100 * n + 10 * e + y\n",
    "                                    if (send + more == money) {\n",
    "                                        println \"s = $s, e = $e, n = $n, d = $d\"\n",
    "                                        println \"m = $m, o = $o, r = $r, y = $y\"\n",
    "                                    }\n",
    "                                }\n",
    "OutputCell.HIDDEN"
   ]
  },
  {
   "cell_type": "code",
   "execution_count": 4,
   "metadata": {},
   "outputs": [
    {
     "name": "stdout",
     "output_type": "stream",
     "text": [
      "s = 9, e = 5, n = 6, d = 7\n",
      "m = 1, o = 0, r = 8, y = 2\n"
     ]
    },
    {
     "data": {
      "text/plain": [
       "null"
      ]
     },
     "execution_count": 3,
     "metadata": {},
     "output_type": "execute_result"
    }
   ],
   "source": [
    "%%groovy\n",
    "\n",
    "def digits = 0..9\n",
    "for (p in digits.permutations()) {\n",
    "    if (p[-1] < p[-2]) continue\n",
    "    def (s, e, n, d, m, o, r, y) = p\n",
    "    if (s == 0 || m == 0) continue\n",
    "    def send = 1000 * s + 100 * e + 10 * n + d\n",
    "    def more = 1000 * m + 100 * o + 10 * r + e\n",
    "    def money = 10000 * m + 1000 * o + 100 * n + 10 * e + y\n",
    "    if (send + more == money) {\n",
    "        println \"s = $s, e = $e, n = $n, d = $d\"\n",
    "        println \"m = $m, o = $o, r = $r, y = $y\"\n",
    "    }\n",
    "}"
   ]
  },
  {
   "cell_type": "code",
   "execution_count": 6,
   "metadata": {},
   "outputs": [
    {
     "name": "stdout",
     "output_type": "stream",
     "text": [
      "- Solution #1 found. Model[SEND+MORE=MONEY], 1 Solutions, Resolution time 0.017s, 3 Nodes (179.6 n/s), 1 Backtracks, 0 Backjumps, 1 Fails, 0 Restarts \n",
      "\tS = 9 E = 5 N = 6 D = 7 M = 1 0 = 0 R = 8 Y = 2 .\n"
     ]
    },
    {
     "data": {
      "text/plain": [
       "Solution: S=9, E=5, N=6, D=7, M=1, 0=0, R=8, Y=2, "
      ]
     },
     "execution_count": 5,
     "metadata": {},
     "output_type": "execute_result"
    }
   ],
   "source": [
    "%%groovy\n",
    "\n",
    "@Grab('org.choco-solver:choco-solver:4.10.0')\n",
    "import org.chocosolver.solver.Model\n",
    "import org.chocosolver.solver.variables.IntVar\n",
    "\n",
    "def model = new Model(\"SEND+MORE=MONEY\")\n",
    "def S = model.intVar(\"S\", 1, 9)\n",
    "def E = model.intVar(\"E\", 0, 9)\n",
    "def N = model.intVar(\"N\", 0, 9)\n",
    "def D = model.intVar(\"D\", 0, 9)\n",
    "def M = model.intVar(\"M\", 1, 9)\n",
    "def O = model.intVar(\"0\", 0, 9)\n",
    "def R = model.intVar(\"R\", 0, 9)\n",
    "def Y = model.intVar(\"Y\", 0, 9)\n",
    "\n",
    "model.allDifferent(S, E, N, D, M, O, R, Y).post()\n",
    "\n",
    "IntVar[] ALL = [\n",
    "        S, E, N, D,\n",
    "        M, O, R, E,\n",
    "        M, O, N, E, Y]\n",
    "int[] COEFFS = [\n",
    "        1000, 100, 10, 1,\n",
    "        1000, 100, 10, 1,\n",
    "        -10000, -1000, -100, -10, -1]\n",
    "model.scalar(ALL, COEFFS, \"=\", 0).post()\n",
    "\n",
    "//model.solver.findSolution()\n",
    "\n",
    "model.solver.with {\n",
    "//    showDashboard()\n",
    "//    showDecisions()\n",
    "//    showStatistics()\n",
    "    showSolutions()\n",
    "    findSolution()\n",
    "}"
   ]
  },
  {
   "cell_type": "code",
   "execution_count": null,
   "metadata": {},
   "outputs": [],
   "source": []
  }
 ],
 "metadata": {
  "kernelspec": {
   "display_name": "Python 3",
   "language": "python",
   "name": "python3"
  },
  "language_info": {
   "codemirror_mode": {
    "name": "ipython",
    "version": 3
   },
   "file_extension": ".py",
   "mimetype": "text/x-python",
   "name": "python",
   "nbconvert_exporter": "python",
   "pygments_lexer": "ipython3",
   "version": "3.7.3"
  },
  "toc": {
   "base_numbering": 1,
   "nav_menu": {},
   "number_sections": false,
   "sideBar": false,
   "skip_h1_title": false,
   "title_cell": "Table of Contents",
   "title_sidebar": "Contents",
   "toc_cell": false,
   "toc_position": {},
   "toc_section_display": false,
   "toc_window_display": false
  }
 },
 "nbformat": 4,
 "nbformat_minor": 2
}
