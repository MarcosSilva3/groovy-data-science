{
 "cells": [
  {
   "cell_type": "markdown",
   "metadata": {},
   "source": [
    "# Has COVID-19 impacted review of scneted candles negatively?\n",
    "\n",
    "First, we'll add some libraries to our classpath."
   ]
  },
  {
   "cell_type": "code",
   "execution_count": 86,
   "metadata": {},
   "outputs": [
    {
     "data": {
      "application/vnd.jupyter.widget-view+json": {
       "model_id": "",
       "version_major": 2,
       "version_minor": 0
      },
      "method": "display_data"
     },
     "metadata": {},
     "output_type": "display_data"
    }
   ],
   "source": [
    "%%classpath add mvn\n",
    "tech.tablesaw tablesaw-beakerx 0.38.1\n",
    "tech.tablesaw tablesaw-excel 0.38.1\n",
    "tech.tablesaw tablesaw-aggregate 0.38.1"
   ]
  },
  {
   "cell_type": "markdown",
   "metadata": {},
   "source": [
    "And add some associated imports."
   ]
  },
  {
   "cell_type": "code",
   "execution_count": 87,
   "metadata": {},
   "outputs": [],
   "source": [
    "%import tech.tablesaw.api.*\n",
    "%import tech.tablesaw.io.xlsx.XlsxReader\n",
    "%import tech.tablesaw.selection.Selection\n",
    "\n",
    "%import java.time.LocalDate\n",
    "%import java.time.LocalDateTime\n",
    "%import java.util.function.Function\n",
    "\n",
    "%import static java.time.Month.JANUARY\n",
    "%import static tech.tablesaw.aggregate.AggregateFunctions.mean\n",
    "%import static tech.tablesaw.api.QuerySupport.and\n",
    "%import static tech.tablesaw.io.xlsx.XlsxReadOptions.builder"
   ]
  },
  {
   "cell_type": "markdown",
   "metadata": {},
   "source": [
    "Plus a helper method since the two graphs are very similar."
   ]
  },
  {
   "cell_type": "code",
   "execution_count": 88,
   "metadata": {},
   "outputs": [],
   "source": [
    "plots = { String url, String lineColor, String markerColor ->\n",
    "    def table = new XlsxReader().read(builder(new URL(url)).build())\n",
    "\n",
    "    table.addColumns(\n",
    "        DateColumn.create('YearMonth', table.column('Date').collect { LocalDate.of(it.year, it.month, 15) })\n",
    "    )\n",
    "    def janFirst2017 = LocalDateTime.of(2017, JANUARY, 1, 0, 0)\n",
    "    Function<Table, Selection> from2017 = { r -> r.dateTimeColumn('Date').isAfter(janFirst2017) }\n",
    "    Function<Table, Selection> top3 = { r -> r.intColumn('CandleID').isLessThanOrEqualTo(3) }\n",
    "\n",
    "    def byMonth = table.sortAscendingOn('Date')\n",
    "            .where(and(from2017, top3))\n",
    "            .summarize('Rating', mean).by('YearMonth')\n",
    "    def byDate = table.sortAscendingOn('Date')\n",
    "            .where(and(from2017, top3))\n",
    "            .summarize('Rating', mean).by('Date')\n",
    "\n",
    "    def averaged = new Line(x: byMonth.dateColumn('YearMonth').toList(), y: byMonth.nCol('Mean [Rating]').toList())\n",
    "    def scatter = new Points(x: byDate.dateTimeColumn('Date').toList(), y: byDate.nCol('Mean [Rating]').toList())\n",
    "    [averaged, scatter]\n",
    "}\n",
    "OutputCell.HIDDEN"
   ]
  },
  {
   "cell_type": "markdown",
   "metadata": {},
   "source": [
    "Let's create a line representing when COVID was first reported."
   ]
  },
  {
   "cell_type": "code",
   "execution_count": 89,
   "metadata": {},
   "outputs": [],
   "source": [
    "def covidReported = LocalDateTime.of(2020, JANUARY, 20, 0, 0)\n",
    "line = new Line(x: [covidReported]*2, y: [1, 5])\n",
    "OutputCell.HIDDEN"
   ]
  },
  {
   "cell_type": "markdown",
   "metadata": {},
   "source": [
    "Now the graph for scented candles:"
   ]
  },
  {
   "cell_type": "code",
   "execution_count": 90,
   "metadata": {},
   "outputs": [
    {
     "data": {
      "application/vnd.jupyter.widget-view+json": {
       "model_id": "820285d8-356b-4c4a-aa62-2eac9f55cd7d",
       "version_major": 2,
       "version_minor": 0
      },
      "method": "display_data"
     },
     "metadata": {},
     "output_type": "display_data"
    }
   ],
   "source": [
    "def scentedUrl = 'https://github.com/paulk-asert/groovy-data-science/blob/master/subprojects/Candles/src/main/resources/Scented_all.xlsx?raw=true'\n",
    "def (sAverage, sScatter) = plots(scentedUrl, 'seablue', 'lightskyblue')\n",
    "plot = new Plot(title: \"Top 3 scented candles Amazon reviews 2017-2020\", xLabel: 'Date', yLabel: 'Average daily rating (1-5)')\n",
    "plot << sAverage\n",
    "plot << sScatter\n",
    "plot << line"
   ]
  },
  {
   "cell_type": "markdown",
   "metadata": {},
   "source": [
    "Now the graph for unscented candles:"
   ]
  },
  {
   "cell_type": "code",
   "execution_count": 91,
   "metadata": {},
   "outputs": [
    {
     "data": {
      "application/vnd.jupyter.widget-view+json": {
       "model_id": "630cfb92-dcd7-4545-a9dc-29e385482230",
       "version_major": 2,
       "version_minor": 0
      },
      "method": "display_data"
     },
     "metadata": {},
     "output_type": "display_data"
    }
   ],
   "source": [
    "def unscentedUrl = 'https://github.com/paulk-asert/groovy-data-science/blob/master/subprojects/Candles/src/main/resources/Unscented_all.xlsx?raw=true'\n",
    "def (uAverage, uScatter) = plots(unscentedUrl, 'seagreen', 'lightgreen')\n",
    "plot = new Plot(title: \"Top 3 unscented candles Amazon reviews 2017-2020\", xLabel: 'Date', yLabel: 'Average daily rating (1-5)')\n",
    "plot << uAverage\n",
    "plot << uScatter\n",
    "plot << line"
   ]
  }
 ],
 "metadata": {
  "kernelspec": {
   "display_name": "Groovy",
   "language": "groovy",
   "name": "groovy"
  },
  "language_info": {
   "codemirror_mode": "groovy",
   "file_extension": ".groovy",
   "mimetype": "",
   "name": "Groovy",
   "nbconverter_exporter": "",
   "version": "2.4.3"
  },
  "toc": {
   "base_numbering": 1,
   "nav_menu": {},
   "number_sections": false,
   "sideBar": false,
   "skip_h1_title": false,
   "title_cell": "Table of Contents",
   "title_sidebar": "Contents",
   "toc_cell": false,
   "toc_position": {},
   "toc_section_display": false,
   "toc_window_display": false
  }
 },
 "nbformat": 4,
 "nbformat_minor": 2
}
