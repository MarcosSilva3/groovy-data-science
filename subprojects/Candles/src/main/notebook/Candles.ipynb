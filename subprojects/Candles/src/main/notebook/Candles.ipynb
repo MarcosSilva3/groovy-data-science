{
 "cells": [
  {
   "cell_type": "markdown",
   "metadata": {},
   "source": [
    "# Has COVID-19 impacted reviews of scented candles negatively?\n",
    "\n",
    "First, we'll add some libraries to our classpath."
   ]
  },
  {
   "cell_type": "code",
   "execution_count": 1,
   "metadata": {},
   "outputs": [
    {
     "data": {
      "application/vnd.jupyter.widget-view+json": {
       "model_id": "",
       "version_major": 2,
       "version_minor": 0
      },
      "method": "display_data"
     },
     "metadata": {},
     "output_type": "display_data"
    }
   ],
   "source": [
    "%%classpath add mvn\n",
    "tech.tablesaw tablesaw-beakerx 0.38.1\n",
    "tech.tablesaw tablesaw-excel 0.38.1\n",
    "tech.tablesaw tablesaw-aggregate 0.38.1"
   ]
  },
  {
   "cell_type": "markdown",
   "metadata": {},
   "source": [
    "And add some associated imports."
   ]
  },
  {
   "cell_type": "code",
   "execution_count": 2,
   "metadata": {},
   "outputs": [],
   "source": [
    "%import tech.tablesaw.api.*\n",
    "%import tech.tablesaw.io.xlsx.XlsxReader\n",
    "\n",
    "%import java.time.LocalDate\n",
    "%import java.time.LocalDateTime\n",
    "%import java.util.function.Function\n",
    "\n",
    "%import static java.lang.Math.sqrt\n",
    "%import static java.time.Month.JANUARY\n",
    "%import static tech.tablesaw.aggregate.AggregateFunctions.count\n",
    "%import static tech.tablesaw.aggregate.AggregateFunctions.countTrue\n",
    "%import static tech.tablesaw.aggregate.AggregateFunctions.mean\n",
    "%import static tech.tablesaw.api.QuerySupport.and\n",
    "%import static tech.tablesaw.io.xlsx.XlsxReadOptions.builder"
   ]
  },
  {
   "cell_type": "markdown",
   "metadata": {},
   "source": [
    "Plus a helper method since the two graphs are very similar."
   ]
  },
  {
   "cell_type": "code",
   "execution_count": 3,
   "metadata": {},
   "outputs": [],
   "source": [
    "tableFor = { String url ->\n",
    "    def table = new XlsxReader().read(builder(new URL(url)).build())\n",
    "    table.addColumns(\n",
    "        DateColumn.create('YearMonth', table.column('Date').collect { LocalDate.of(it.year, it.month, 15) })\n",
    "    )\n",
    "    table\n",
    "}\n",
    "\n",
    "plots = { table, Color lineColor, Color markerColor ->\n",
    "    def janFirst2017 = LocalDate.of(2017, JANUARY, 1)\n",
    "    Function from2017 = { r -> r.dateTimeColumn('Date').isAfter(janFirst2017) }\n",
    "    Function top3 = { r -> r.intColumn('CandleID').isLessThanOrEqualTo(3) }\n",
    "\n",
    "    def byMonth = table.sortAscendingOn('Date')\n",
    "            .where(and(from2017, top3))\n",
    "            .summarize('Rating', mean).by('YearMonth')\n",
    "    def byDate = table.sortAscendingOn('Date')\n",
    "            .where(and(from2017, top3))\n",
    "            .summarize('Rating', mean).by('Date')\n",
    "\n",
    "    def averaged = new Line(x: byMonth.dateColumn('YearMonth').toList(), y: byMonth.nCol('Mean [Rating]').toList(), width: 4, color: lineColor)\n",
    "    def scatter = new Points(x: byDate.dateTimeColumn('Date').toList(), y: byDate.nCol('Mean [Rating]').toList(), color: markerColor)\n",
    "    [averaged, scatter]\n",
    "}\n",
    "OutputCell.HIDDEN"
   ]
  },
  {
   "cell_type": "markdown",
   "metadata": {},
   "source": [
    "Let's create a line representing when COVID was first reported."
   ]
  },
  {
   "cell_type": "code",
   "execution_count": 4,
   "metadata": {},
   "outputs": [],
   "source": [
    "def covidReported = LocalDate.of(2020, JANUARY, 20)\n",
    "line = new ConstantLine(x: [covidReported], color: Color.RED, style: StrokeType.DASH, showLabel: true)\n",
    "OutputCell.HIDDEN"
   ]
  },
  {
   "cell_type": "markdown",
   "metadata": {},
   "source": [
    "Now the graph for scented candles:"
   ]
  },
  {
   "cell_type": "code",
   "execution_count": 5,
   "metadata": {},
   "outputs": [
    {
     "data": {
      "application/vnd.jupyter.widget-view+json": {
       "model_id": "aa44bdce-6763-4653-aed2-010d4d05b1d5",
       "version_major": 2,
       "version_minor": 0
      },
      "method": "display_data"
     },
     "metadata": {},
     "output_type": "display_data"
    }
   ],
   "source": [
    "def scentedUrl = 'https://github.com/paulk-asert/groovy-data-science/blob/master/subprojects/Candles/src/main/resources/Scented_all.xlsx?raw=true'\n",
    "scented = tableFor(scentedUrl)\n",
    "def (sAverage, sScatter) = plots(scented, Color.BLUE, new Color(190, 120, 64, 80))\n",
    "plot = new TimePlot(title: \"Top 3 scented candles Amazon reviews 2017-2020\", xLabel: 'Date', yLabel: 'Average daily rating (1-5)')\n",
    "plot << sAverage\n",
    "plot << sScatter\n",
    "plot << line"
   ]
  },
  {
   "cell_type": "markdown",
   "metadata": {},
   "source": [
    "Now the graph for unscented candles:"
   ]
  },
  {
   "cell_type": "code",
   "execution_count": 6,
   "metadata": {},
   "outputs": [
    {
     "data": {
      "application/vnd.jupyter.widget-view+json": {
       "model_id": "401b4d2f-6db9-4803-b99b-f9e058fbda31",
       "version_major": 2,
       "version_minor": 0
      },
      "method": "display_data"
     },
     "metadata": {},
     "output_type": "display_data"
    }
   ],
   "source": [
    "def unscentedUrl = 'https://github.com/paulk-asert/groovy-data-science/blob/master/subprojects/Candles/src/main/resources/Unscented_all.xlsx?raw=true'\n",
    "unscented = tableFor(unscentedUrl)\n",
    "def (uAverage, uScatter) = plots(unscented, Color.MAGENTA, new Color(32, 190, 64, 80))\n",
    "plot = new TimePlot(title: \"Top 3 unscented candles Amazon reviews 2017-2020\", xLabel: 'Date', yLabel: 'Average daily rating (1-5)')\n",
    "plot << uAverage\n",
    "plot << uScatter\n",
    "plot << line"
   ]
  },
  {
   "cell_type": "code",
   "execution_count": 7,
   "metadata": {},
   "outputs": [
    {
     "data": {
      "application/vnd.jupyter.widget-view+json": {
       "model_id": "4ab5fa94-1da4-4a80-a7a7-97eb98ca4c0e",
       "version_major": 2,
       "version_minor": 0
      },
      "method": "display_data"
     },
     "metadata": {},
     "output_type": "display_data"
    }
   ],
   "source": [
    "def start2020 = LocalDateTime.of(2020, JANUARY, 1, 0, 0)\n",
    "Function from2020 = { r -> r.dateTimeColumn('Date').isAfter(start2020) }\n",
    "\n",
    "def candidates = ['[Nn]o scent', '[Nn]o smell', '[Dd]oes not smell like', \"[Dd]oesn't smell like\", \"[Cc]an't smell\",\n",
    "                  '[Cc]annot smell', '[Ff]aint smell', '[Ff]aint scent', \"[Dd]on't smell\", '[Ll]ike nothing']\n",
    "int[] months = scented.column('Date').collect { it.month.value - 1 }\n",
    "def reviewFlags = scented.column('Review').collect { review -> candidates.any { review =~ it } }\n",
    "scented.addColumns(IntColumn.create('Month', months), BooleanColumn.create('Noscent', reviewFlags))\n",
    "\n",
    "def byMonth2020 = scented.where(from2020).sortAscendingOn('Date')\n",
    "        .summarize('Noscent', countTrue, count).by('Month')\n",
    "def indices = 0..<byMonth2020.size()\n",
    "double[] nsprop = indices.collect { byMonth2020[it].with { it.getDouble('Number True [Noscent]') / it.getDouble('Count [Noscent]') } }\n",
    "double[] se = indices.collect { sqrt(nsprop[it] * (1 - nsprop[it]) / byMonth2020[it].getDouble('Count [Noscent]')) }\n",
    "double[] barLower = indices.collect { nsprop[it] - se[it] }\n",
    "double[] barHigher = indices.collect { nsprop[it] + se[it] }\n",
    "byMonth2020.addColumns(DoubleColumn.create('nsprop', nsprop), DoubleColumn.create('barLower', barLower), DoubleColumn.create('barHigher', barHigher))\n",
    "def title = 'Proportion of top 5 scented candles on Amazon mentioning lack of scent by month 2020'\n",
    "def labels = 'JFMAMJJASON'.toList()\n",
    "plot = new Plot(title: title, xLabel: 'Month', yLabel: 'Proportion of reviews', xTickLabelsVisible: false)\n",
    "labels.indices.each{ plot << new Text(x: it, y:0.005, text: labels[it], showPointer: false, color: Color.WHITE) }\n",
    "plot << new Bars(x: byMonth2020.nCol('Month').toList(), y: byMonth2020.nCol('nsprop').toList(), width: 0.8)\n",
    "plot << new Stems(y: byMonth2020.nCol('barLower').toList(), base: byMonth2020.nCol('nsprop').toList())\n",
    "plot << new Stems(y: byMonth2020.nCol('barHigher').toList(), base: byMonth2020.nCol('nsprop').toList())"
   ]
  }
 ],
 "metadata": {
  "kernelspec": {
   "display_name": "Groovy",
   "language": "groovy",
   "name": "groovy"
  },
  "language_info": {
   "codemirror_mode": "groovy",
   "file_extension": ".groovy",
   "mimetype": "",
   "name": "Groovy",
   "nbconverter_exporter": "",
   "version": "2.4.3"
  },
  "toc": {
   "base_numbering": 1,
   "nav_menu": {},
   "number_sections": false,
   "sideBar": false,
   "skip_h1_title": false,
   "title_cell": "Table of Contents",
   "title_sidebar": "Contents",
   "toc_cell": false,
   "toc_position": {},
   "toc_section_display": false,
   "toc_window_display": false
  }
 },
 "nbformat": 4,
 "nbformat_minor": 2
}
