{
 "cells": [
  {
   "cell_type": "markdown",
   "metadata": {},
   "source": [
    "# Whiskey clustering \n",
    "\n",
    "This example examines 86 Scotch whiskies that have been rated on\n",
    "a five-point scale for 12 flavor characteristics: Body, sweetness, smoky, medicinal, tobacco, honey, spicy, winey, nutty, malty, fruity, and floral.\n",
    "This data set comes from a book on the classification of Scotch whisky based on\n",
    "flavors by David Wishart (2002) and can be found [online](https://www.niss.org/sites/default/files/ScotchWhisky01.txt).\n",
    "\n",
    "We'll use [Tablesaw](https://tablesaw.tech/) to store and manipulate our data\n",
    "and the clustering and projection classes from the [Smile](http://haifengl.github.io/)\n",
    "machine learning library. So, we'll add those libraries to the classpath and define some imports to simplify access to the classes we need."
   ]
  },
  {
   "cell_type": "code",
   "execution_count": 120,
   "metadata": {},
   "outputs": [
    {
     "data": {
      "application/vnd.jupyter.widget-view+json": {
       "model_id": "",
       "version_major": 2,
       "version_minor": 0
      },
      "method": "display_data"
     },
     "metadata": {},
     "output_type": "display_data"
    }
   ],
   "source": [
    "%%classpath add mvn\n",
    "tech.tablesaw tablesaw-beakerx 0.36.0\n",
    "com.github.haifengl smile-core 1.5.3"
   ]
  },
  {
   "cell_type": "code",
   "execution_count": 121,
   "metadata": {},
   "outputs": [],
   "source": [
    "%import static tech.tablesaw.aggregate.AggregateFunctions.*\n",
    "%import tech.tablesaw.api.*\n",
    "%import tech.tablesaw.columns.*\n",
    "%import smile.clustering.*\n",
    "%import smile.projection.PCA"
   ]
  },
  {
   "cell_type": "markdown",
   "metadata": {},
   "source": [
    "We'll also enable a BeakerX display widget for Tablesaw tables."
   ]
  },
  {
   "cell_type": "code",
   "execution_count": 122,
   "metadata": {},
   "outputs": [],
   "source": [
    "tech.tablesaw.beakerx.TablesawDisplayer.register()\n",
    "OutputCell.HIDDEN"
   ]
  },
  {
   "cell_type": "markdown",
   "metadata": {},
   "source": [
    "### Exploring the data\n",
    "\n",
    "We start by loading the data and printing its shape and structure."
   ]
  },
  {
   "cell_type": "code",
   "execution_count": 123,
   "metadata": {},
   "outputs": [
    {
     "data": {
      "text/plain": [
       "86 rows X 14 cols"
      ]
     },
     "execution_count": 123,
     "metadata": {},
     "output_type": "execute_result"
    }
   ],
   "source": [
    "records = Table.read().csv(\"../resources/whiskey.csv\")\n",
    "records.shape()"
   ]
  },
  {
   "cell_type": "code",
   "execution_count": 124,
   "metadata": {},
   "outputs": [
    {
     "data": {
      "application/vnd.jupyter.widget-view+json": {
       "model_id": "4fb50f45-fb76-4d6f-97f7-9616cbc6d0e5",
       "version_major": 2,
       "version_minor": 0
      },
      "method": "display_data"
     },
     "metadata": {},
     "output_type": "display_data"
    }
   ],
   "source": [
    "records.structure()"
   ]
  },
  {
   "cell_type": "markdown",
   "metadata": {},
   "source": [
    "### K-means clustering\n",
    "\n",
    "K-means is the most common form of “centroid” clustering. Unlike classification, clustering is an unsupervised learning method. The categories are not predetermined. Instead, the goal is to search for natural groupings in the dataset, such that the members of each group are similar to each other and different from the members of the other groups. The K represents the number of groups to find."
   ]
  },
  {
   "cell_type": "code",
   "execution_count": 125,
   "metadata": {},
   "outputs": [
    {
     "data": {
      "text/plain": [
       "K-Means distortion: 404.48848\n",
       "Clusters of 86 data points of dimension 12:\n",
       "  0\t   23 (26.7%)\n",
       "  1\t    7 ( 8.1%)\n",
       "  2\t   31 (36.0%)\n",
       "  3\t    2 ( 2.3%)\n",
       "  4\t   23 (26.7%)\n"
      ]
     },
     "execution_count": 125,
     "metadata": {},
     "output_type": "execute_result"
    }
   ],
   "source": [
    "cols = [\"Body\", \"Sweetness\", \"Smoky\", \"Medicinal\", \"Tobacco\", \"Honey\",\n",
    "        \"Spicy\", \"Winey\", \"Nutty\", \"Malty\", \"Fruity\", \"Floral\"]\n",
    "data = records.as().doubleMatrix(*cols)\n",
    "kMeans = new KMeans(data, 5)"
   ]
  },
  {
   "cell_type": "code",
   "execution_count": 126,
   "metadata": {},
   "outputs": [
    {
     "data": {
      "application/vnd.jupyter.widget-view+json": {
       "model_id": "4cc6f4cc-6221-49f2-95ec-5970707faeef",
       "version_major": 2,
       "version_minor": 0
      },
      "method": "display_data"
     },
     "metadata": {},
     "output_type": "display_data"
    }
   ],
   "source": [
    "Table clusters = Table.create(\"Clusters\", records.stringColumn(\"Distillery\"),\n",
    "                              DoubleColumn.create(\"Cluster\", kMeans.getClusterLabel()))\n",
    "clusters = clusters.sortAscendingOn(\"Cluster\", \"Distillery\")"
   ]
  },
  {
   "cell_type": "markdown",
   "metadata": {},
   "source": [
    "We have some nice classifications but how do we visualize them? A common approach would be to reduce our twelve \"dimensions\" (our features) onto a smaller number of dimensions, typically 2 or 3."
   ]
  },
  {
   "cell_type": "code",
   "execution_count": null,
   "metadata": {},
   "outputs": [],
   "source": [
    "pca = new PCA(data)\n",
    "dimensions = 2\n",
    "numClusters = 5\n",
    "pca.projection = dimensions\n",
    "projected = pca.project(data)\n",
    "clusterer = new KMeans(data, numClusters)\n",
    "labels = clusterer.clusterLabel.collect { \"Cluster \" + (it + 1) }\n",
    "records = records.addColumns(\n",
    "    *(0..<dimensions).collect { idx ->\n",
    "        DoubleColumn.create(\"PCA${idx+1}\", (0..<data.size()).collect{\n",
    "            projected[it][idx]\n",
    "        })},\n",
    "    StringColumn.create(\"Cluster\", labels),\n",
    "    DoubleColumn.create(\"Centroid\", [10] * labels.size())\n",
    ")"
   ]
  },
  {
   "cell_type": "code",
   "execution_count": 139,
   "metadata": {},
   "outputs": [
    {
     "data": {
      "application/vnd.jupyter.widget-view+json": {
       "model_id": "3fe75b82-f936-4bfe-897a-00a2380e5c97",
       "version_major": 2,
       "version_minor": 0
      },
      "method": "display_data"
     },
     "metadata": {},
     "output_type": "display_data"
    }
   ],
   "source": [
    "colors = [\n",
    "    'Cluster 1': new Color(255, 31, 31),\n",
    "    'Cluster 2': new Color(15, 255, 15),\n",
    "    'Cluster 3': new Color(0, 0, 222),\n",
    "    'Cluster 4': new Color(255, 255, 32),\n",
    "    'Cluster 5': new Color(155, 3, 155)\n",
    "]\n",
    "title = \"Clusters x Principal Components w/ centroids\"\n",
    "plot = new Plot(title: title, xLabel: 'PCA1', yLabel: 'PCA2')\n",
    "plot << new Points(x: records.column('PCA1').toList(),\n",
    "                   y: records.column('PCA2').toList(),\n",
    "                   color: records.column('Cluster').toList().collect{ colors[it] })"
   ]
  },
  {
   "cell_type": "code",
   "execution_count": null,
   "metadata": {},
   "outputs": [],
   "source": []
  }
 ],
 "metadata": {
  "anaconda-cloud": {},
  "kernelspec": {
   "display_name": "Groovy",
   "language": "groovy",
   "name": "groovy"
  },
  "language_info": {
   "codemirror_mode": "groovy",
   "file_extension": ".groovy",
   "mimetype": "",
   "name": "Groovy",
   "nbconverter_exporter": "",
   "version": "2.5.6"
  },
  "toc": {
   "base_numbering": 1,
   "nav_menu": {},
   "number_sections": false,
   "sideBar": false,
   "skip_h1_title": false,
   "title_cell": "Table of Contents",
   "title_sidebar": "Contents",
   "toc_cell": false,
   "toc_position": {},
   "toc_section_display": false,
   "toc_window_display": false
  }
 },
 "nbformat": 4,
 "nbformat_minor": 2
}
